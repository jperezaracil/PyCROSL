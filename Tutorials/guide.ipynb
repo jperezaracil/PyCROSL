{
 "cells": [
  {
   "cell_type": "markdown",
   "metadata": {},
   "source": [
    "# DPCRO_SL Guide"
   ]
  },
  {
   "cell_type": "markdown",
   "metadata": {},
   "source": []
  },
  {
   "cell_type": "code",
   "execution_count": 5,
   "metadata": {},
   "outputs": [],
   "source": [
    "from CRO_SL import *\n",
    "from AbsObjetiveFunc import *\n",
    "from SubstrateReal import *"
   ]
  },
  {
   "cell_type": "markdown",
   "metadata": {},
   "source": [
    "The first step will be to define the objetive function that will be optimized, this will be done taking as a base the class AbsObjetiveFunc.\n",
    "In this case, we will optimize a very simple function, simply adding the squared components of the vector. "
   ]
  },
  {
   "cell_type": "code",
   "execution_count": 3,
   "metadata": {},
   "outputs": [],
   "source": [
    "\n",
    "\"\"\"\n",
    "All the following methods will have to be implemented for the algorithm to work properly\n",
    "with the same inputs, except for the constructor \n",
    "\"\"\"\n",
    "class SumSquare(AbsObjetiveFunc):\n",
    "    \"\"\"\n",
    "    This is the constructor of the class, here is where the objetive function can be setted up.\n",
    "    In this case we will only add the size of the vector as a parameter.\n",
    "    \"\"\"\n",
    "    def __init__(self, size):\n",
    "        self.size = size\n",
    "        self.opt = \"min\" # it can be \"max\" or \"min\"\n",
    "\n",
    "        # we call the constructor of the superclass with the size of the vector\n",
    "        # and wether we want to maximize or minimize the function \n",
    "        super().__init__(self.size, self.opt)\n",
    "    \n",
    "    \"\"\"\n",
    "    This will be the objetive function, that will recieve a vector and output a number\n",
    "    \"\"\"\n",
    "    def objetive(self, solution):\n",
    "        return (solution**2).sum()\n",
    "    \n",
    "    \"\"\"\n",
    "    This will be the function used to generate random vectors\n",
    "    \"\"\"\n",
    "    def random_solution(self):\n",
    "        return 200*np.random.random(self.size)-100\n",
    "    \n",
    "    \"\"\"\n",
    "    This will be the function that will repair solutions, or in other words, makes a solution\n",
    "    outside the domain of the function into a valid one.\n",
    "    If this is not needed simply return \"solution\"\n",
    "    \"\"\"\n",
    "    def check_bounds(self, solution):\n",
    "        return np.clip(solution, -100, 100)"
   ]
  },
  {
   "cell_type": "code",
   "execution_count": 7,
   "metadata": {},
   "outputs": [],
   "source": [
    "objfunc = SumSquare(30)"
   ]
  },
  {
   "cell_type": "markdown",
   "metadata": {},
   "source": [
    "Now that we have our objetive function, we can proceed to initialize the optimization algorithm."
   ]
  },
  {
   "cell_type": "markdown",
   "metadata": {},
   "source": [
    "First, we configure the hyperparameters of the algorithm in a dictionary, a detailed list of the parameters needed can be found on the README.md file. Here we use a configuration that should work ok in most cases."
   ]
  },
  {
   "cell_type": "code",
   "execution_count": null,
   "metadata": {},
   "outputs": [],
   "source": [
    "params = {\n",
    "    \"popSize\": 100,\n",
    "    \"rho\": 0.6,\n",
    "    \"Fb\": 0.98,\n",
    "    \"Fd\": 0.2,\n",
    "    \"Pd\": 0.8,\n",
    "    \"k\": 3,\n",
    "    \"K\": 20,\n",
    "    \"group_subs\": True,\n",
    "\n",
    "    \"stop_cond\": \"ngen\",\n",
    "    \"time_limit\": 4000.0,\n",
    "    \"Ngen\": 200,\n",
    "    \"Neval\": 10e5,\n",
    "    \"fit_target\": 1000,\n",
    "\n",
    "    \"verbose\": True,\n",
    "    \"v_timer\": 1,\n",
    "\n",
    "    \"dynamic\": True,\n",
    "    \"dyn_method\": \"success\",\n",
    "    \"dyn_metric\": \"avg\",\n",
    "    \"dyn_steps\": 10,\n",
    "    \"prob_amp\": 0.01\n",
    "}"
   ]
  },
  {
   "cell_type": "markdown",
   "metadata": {},
   "source": [
    "Since this algorithm relies on the mixing of different mutation and recombination operators, we will create the list of operators to be used. To create an operator we create an instance of the class SubstrateReal in case we are working with real valued vectors, and SubstrateInt if we are working with discrete valued vectors.\n",
    "\n",
    "Each operator has it's own parameters that will be specified in the creation of the operator"
   ]
  },
  {
   "cell_type": "code",
   "execution_count": 6,
   "metadata": {},
   "outputs": [],
   "source": [
    "operators = [\n",
    "    SubstrateReal(\"DE/rand/1\", {\"F\": 0.7, \"Pr\":0.8}),\n",
    "    SubstrateReal(\"DE/best/2\", {\"F\": 0.7, \"Pr\":0.8}),\n",
    "    SubstrateReal(\"DE/current-to-best/1\", {\"F\": 0.7, \"Pr\":0.8}),\n",
    "    SubstrateReal(\"DE/current-to-rand/1\", {\"F\": 0.7, \"Pr\":0.8})\n",
    "]"
   ]
  },
  {
   "cell_type": "markdown",
   "metadata": {},
   "source": [
    "Now we simply an instance of the CRO_SL algorithm with the previous data. "
   ]
  },
  {
   "cell_type": "code",
   "execution_count": null,
   "metadata": {},
   "outputs": [],
   "source": [
    "cro_alg = CRO_SL(objfunc, operators, params)"
   ]
  },
  {
   "cell_type": "code",
   "execution_count": null,
   "metadata": {},
   "outputs": [],
   "source": []
  }
 ],
 "metadata": {
  "kernelspec": {
   "display_name": "Python 3",
   "language": "python",
   "name": "python3"
  },
  "language_info": {
   "codemirror_mode": {
    "name": "ipython",
    "version": 3
   },
   "file_extension": ".py",
   "mimetype": "text/x-python",
   "name": "python",
   "nbconvert_exporter": "python",
   "pygments_lexer": "ipython3",
   "version": "3.10.8"
  },
  "orig_nbformat": 4,
  "vscode": {
   "interpreter": {
    "hash": "e7370f93d1d0cde622a1f8e1c04877d8463912d04d973331ad4851f04de6915a"
   }
  }
 },
 "nbformat": 4,
 "nbformat_minor": 2
}
